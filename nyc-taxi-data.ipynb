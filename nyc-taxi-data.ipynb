{
 "cells": [
  {
   "cell_type": "code",
   "execution_count": 1,
   "metadata": {
    "collapsed": true
   },
   "outputs": [],
   "source": [
    "import pandas as pd"
   ]
  },
  {
   "cell_type": "code",
   "execution_count": 2,
   "metadata": {},
   "outputs": [
    {
     "name": "stdout",
     "output_type": "stream",
     "text": [
      "Requesting query... ok.\n",
      "Query running...\n",
      "Query done.\n",
      "Cache hit.\n",
      "\n",
      "Retrieving results...\n",
      "Got 10 rows.\n",
      "\n",
      "Total time taken 4.46 s.\n",
      "Finished at 2017-05-25 22:02:05.\n"
     ]
    }
   ],
   "source": [
    "df = pd.read_gbq(\"\"\"\n",
    "SELECT \n",
    "pickup_datetime,\n",
    "dropoff_datetime\n",
    "FROM `bigquery-public-data.new_york.tlc_yellow_trips_2009`\n",
    "LIMIT 10\n",
    "\"\"\", project_id = 'datalab-does-not-work', dialect='standard')"
   ]
  },
  {
   "cell_type": "code",
   "execution_count": 3,
   "metadata": {},
   "outputs": [
    {
     "data": {
      "text/html": [
       "<div>\n",
       "<style>\n",
       "    .dataframe thead tr:only-child th {\n",
       "        text-align: right;\n",
       "    }\n",
       "\n",
       "    .dataframe thead th {\n",
       "        text-align: left;\n",
       "    }\n",
       "\n",
       "    .dataframe tbody tr th {\n",
       "        vertical-align: top;\n",
       "    }\n",
       "</style>\n",
       "<table border=\"1\" class=\"dataframe\">\n",
       "  <thead>\n",
       "    <tr style=\"text-align: right;\">\n",
       "      <th></th>\n",
       "      <th>pickup_datetime</th>\n",
       "      <th>dropoff_datetime</th>\n",
       "    </tr>\n",
       "  </thead>\n",
       "  <tbody>\n",
       "    <tr>\n",
       "      <th>0</th>\n",
       "      <td>2009-09-24 02:28:35</td>\n",
       "      <td>2009-09-24 02:42:27</td>\n",
       "    </tr>\n",
       "    <tr>\n",
       "      <th>1</th>\n",
       "      <td>2009-05-20 23:06:00</td>\n",
       "      <td>2009-05-20 23:14:00</td>\n",
       "    </tr>\n",
       "    <tr>\n",
       "      <th>2</th>\n",
       "      <td>2009-12-13 22:32:43</td>\n",
       "      <td>2009-12-13 22:39:08</td>\n",
       "    </tr>\n",
       "    <tr>\n",
       "      <th>3</th>\n",
       "      <td>2009-06-11 20:48:32</td>\n",
       "      <td>2009-06-11 20:54:35</td>\n",
       "    </tr>\n",
       "    <tr>\n",
       "      <th>4</th>\n",
       "      <td>2009-05-16 17:22:29</td>\n",
       "      <td>2009-05-16 17:25:10</td>\n",
       "    </tr>\n",
       "    <tr>\n",
       "      <th>5</th>\n",
       "      <td>2009-02-01 00:27:00</td>\n",
       "      <td>2009-02-01 00:31:00</td>\n",
       "    </tr>\n",
       "    <tr>\n",
       "      <th>6</th>\n",
       "      <td>2009-09-19 13:06:34</td>\n",
       "      <td>2009-09-19 13:14:06</td>\n",
       "    </tr>\n",
       "    <tr>\n",
       "      <th>7</th>\n",
       "      <td>2009-04-19 03:28:27</td>\n",
       "      <td>2009-04-19 03:37:40</td>\n",
       "    </tr>\n",
       "    <tr>\n",
       "      <th>8</th>\n",
       "      <td>2009-10-05 15:12:39</td>\n",
       "      <td>2009-10-05 15:15:41</td>\n",
       "    </tr>\n",
       "    <tr>\n",
       "      <th>9</th>\n",
       "      <td>2009-08-01 22:29:15</td>\n",
       "      <td>2009-08-01 22:38:39</td>\n",
       "    </tr>\n",
       "  </tbody>\n",
       "</table>\n",
       "</div>"
      ],
      "text/plain": [
       "      pickup_datetime    dropoff_datetime\n",
       "0 2009-09-24 02:28:35 2009-09-24 02:42:27\n",
       "1 2009-05-20 23:06:00 2009-05-20 23:14:00\n",
       "2 2009-12-13 22:32:43 2009-12-13 22:39:08\n",
       "3 2009-06-11 20:48:32 2009-06-11 20:54:35\n",
       "4 2009-05-16 17:22:29 2009-05-16 17:25:10\n",
       "5 2009-02-01 00:27:00 2009-02-01 00:31:00\n",
       "6 2009-09-19 13:06:34 2009-09-19 13:14:06\n",
       "7 2009-04-19 03:28:27 2009-04-19 03:37:40\n",
       "8 2009-10-05 15:12:39 2009-10-05 15:15:41\n",
       "9 2009-08-01 22:29:15 2009-08-01 22:38:39"
      ]
     },
     "execution_count": 3,
     "metadata": {},
     "output_type": "execute_result"
    }
   ],
   "source": [
    "df"
   ]
  },
  {
   "cell_type": "code",
   "execution_count": null,
   "metadata": {
    "collapsed": true
   },
   "outputs": [],
   "source": []
  }
 ],
 "metadata": {
  "kernelspec": {
   "display_name": "Python 3",
   "language": "python",
   "name": "python3"
  },
  "language_info": {
   "codemirror_mode": {
    "name": "ipython",
    "version": 3
   },
   "file_extension": ".py",
   "mimetype": "text/x-python",
   "name": "python",
   "nbconvert_exporter": "python",
   "pygments_lexer": "ipython3",
   "version": "3.6.1"
  }
 },
 "nbformat": 4,
 "nbformat_minor": 2
}
